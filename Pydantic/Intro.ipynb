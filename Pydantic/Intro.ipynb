{
 "cells": [
  {
   "cell_type": "markdown",
   "metadata": {},
   "source": [
    "## Pydantic: Creating and Using Models\n",
    "Pydantic models are the foundation of data validation in Python. They use Python type annotations to defein the structure and validate data at runtime. Here's a detailed exploration of basic model creation with several examples. "
   ]
  },
  {
   "cell_type": "code",
   "execution_count": 1,
   "metadata": {},
   "outputs": [],
   "source": [
    "from pydantic import BaseModel"
   ]
  },
  {
   "cell_type": "code",
   "execution_count": 2,
   "metadata": {},
   "outputs": [
    {
     "name": "stdout",
     "output_type": "stream",
     "text": [
      "name='John' age=30 email='john@example.com'\n"
     ]
    }
   ],
   "source": [
    "class Person(BaseModel):\n",
    "    name: str\n",
    "    age: int\n",
    "    email: str\n",
    "\n",
    "person = Person(name=\"John\", age=30, email=\"john@example.com\")\n",
    "print(person)"
   ]
  },
  {
   "cell_type": "markdown",
   "metadata": {},
   "source": [
    "# Model with Optional Fields"
   ]
  },
  {
   "cell_type": "code",
   "execution_count": 3,
   "metadata": {},
   "outputs": [
    {
     "name": "stdout",
     "output_type": "stream",
     "text": [
      "title='1984' author='George Orwell' year=None\n"
     ]
    }
   ],
   "source": [
    "from typing import Optional\n",
    "class Book(BaseModel):\n",
    "    title: str\n",
    "    author: str\n",
    "    year: Optional[int] = None\n",
    "\n",
    "\n",
    "book1 = Book(title=\"1984\", author=\"George Orwell\")\n",
    "print(book1)"
   ]
  },
  {
   "cell_type": "code",
   "execution_count": 7,
   "metadata": {},
   "outputs": [
    {
     "name": "stdout",
     "output_type": "stream",
     "text": [
      "students=None teacher='Ms. Smith'\n"
     ]
    }
   ],
   "source": [
    "from pydantic import BaseModel\n",
    "from typing import List\n",
    "\n",
    "class Classroom(BaseModel):\n",
    "    students: Optional[List[str]] = None\n",
    "    teacher: str\n",
    "\n",
    "class_room = Classroom(students=[\"Alice\", \"Bob\"], teacher=\"Ms. Smith\")\n",
    "class_room1 = Classroom(teacher=\"Ms. Smith\")\n",
    "print(class_room1)"
   ]
  },
  {
   "cell_type": "markdown",
   "metadata": {},
   "source": [
    "# Model with Nested Models\n",
    "Create complex structures with nested models"
   ]
  },
  {
   "cell_type": "code",
   "execution_count": 10,
   "metadata": {},
   "outputs": [
    {
     "name": "stdout",
     "output_type": "stream",
     "text": [
      "name='John Doe' address=Address(street='123 Main St', city='Anytown', zip_code='12345')\n",
      "Anytown\n"
     ]
    }
   ],
   "source": [
    "from pydantic import BaseModel\n",
    "class Address(BaseModel):\n",
    "    street: str\n",
    "    city: str\n",
    "    zip_code: str\n",
    "\n",
    "class Customer(BaseModel):\n",
    "    name: str\n",
    "    address: Address\n",
    "\n",
    "customer = Customer(name=\"John Doe\", address=Address(street=\"123 Main St\", city=\"Anytown\", zip_code=\"12345\"))\n",
    "print(customer)\n",
    "print(customer.address.city)"
   ]
  },
  {
   "cell_type": "markdown",
   "metadata": {},
   "source": [
    "# Pydantic Fields: Customization and Constraints\n",
    "The Field function in Pydantic ehances modesl fields beyond basic type hints by allowing you to specify validation rules, default values, aliases, and more. Here's a comprehensive tutorial with examples."
   ]
  },
  {
   "cell_type": "code",
   "execution_count": 13,
   "metadata": {},
   "outputs": [
    {
     "name": "stdout",
     "output_type": "stream",
     "text": [
      "name='Laptop' price=120.0\n"
     ]
    }
   ],
   "source": [
    "from pydantic import BaseModel, Field\n",
    "class Item(BaseModel):\n",
    "    name: str = Field(min_length=3, max_length=20)\n",
    "    price: float = Field(ge = 0, le = 1000)\n",
    "\n",
    "item = Item(name=\"Laptop\", price=120.0)\n",
    "print(item)"
   ]
  },
  {
   "cell_type": "code",
   "execution_count": 15,
   "metadata": {},
   "outputs": [
    {
     "name": "stdout",
     "output_type": "stream",
     "text": [
      "username='john_doe' email='john@example.com'\n"
     ]
    }
   ],
   "source": [
    "from pydantic import BaseModel, Field\n",
    "class User(BaseModel):\n",
    "    username: str = Field(..., description=\"The username of the user\")\n",
    "    email: str = Field(..., description=\"The email of the user\")\n",
    "\n",
    "user = User(username=\"john_doe\", email=\"john@example.com\")\n",
    "print(user)"
   ]
  },
  {
   "cell_type": "code",
   "execution_count": 16,
   "metadata": {},
   "outputs": [
    {
     "name": "stdout",
     "output_type": "stream",
     "text": [
      "{'properties': {'username': {'description': 'The username of the user', 'title': 'Username', 'type': 'string'}, 'email': {'description': 'The email of the user', 'title': 'Email', 'type': 'string'}}, 'required': ['username', 'email'], 'title': 'User', 'type': 'object'}\n"
     ]
    },
    {
     "name": "stderr",
     "output_type": "stream",
     "text": [
      "/var/folders/_9/wkm0tqns0n53w3ytpgc_68kc0000gn/T/ipykernel_69891/275923770.py:1: PydanticDeprecatedSince20: The `schema` method is deprecated; use `model_json_schema` instead. Deprecated in Pydantic V2.0 to be removed in V3.0. See Pydantic V2 Migration Guide at https://errors.pydantic.dev/2.10/migration/\n",
      "  print(User.schema())\n"
     ]
    }
   ],
   "source": [
    "print(User.schema())"
   ]
  }
 ],
 "metadata": {
  "kernelspec": {
   "display_name": "base",
   "language": "python",
   "name": "python3"
  },
  "language_info": {
   "codemirror_mode": {
    "name": "ipython",
    "version": 3
   },
   "file_extension": ".py",
   "mimetype": "text/x-python",
   "name": "python",
   "nbconvert_exporter": "python",
   "pygments_lexer": "ipython3",
   "version": "3.11.4"
  }
 },
 "nbformat": 4,
 "nbformat_minor": 2
}
