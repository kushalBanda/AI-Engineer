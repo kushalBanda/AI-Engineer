{
 "cells": [
  {
   "cell_type": "markdown",
   "metadata": {},
   "source": [
    "## LangGraph\n",
    "1. Nodes = Python Functions -> Task\n",
    "2. Edges = Connect the nodes -> Conditional Edge\n",
    "3. State = State Schema serves as the i/p for all nodes.\n",
    "4. StateGraph = Structure of the centre Graph.\n"
   ]
  },
  {
   "cell_type": "code",
   "execution_count": 6,
   "metadata": {},
   "outputs": [],
   "source": [
    "from typing_extensions import TypedDict\n",
    "\n",
    "class State(TypedDict):\n",
    "    graph_info: str"
   ]
  },
  {
   "cell_type": "code",
   "execution_count": 7,
   "metadata": {},
   "outputs": [],
   "source": [
    "def start_play(state: State) -> State:\n",
    "    print(\"Starting Play node has been called...\")\n",
    "    return {\"graph_info\": state[\"graph_info\"] + \"I'm planning to play a game\"}\n",
    "\n",
    "def cricket(state: State) -> State:\n",
    "    print(\"Cricket node has been called...\")\n",
    "    return {\"graph_info\": state[\"graph_info\"] + \"I'm going to play cricket\"}\n",
    "\n",
    "def badminton(state: State) -> State:\n",
    "    print(\"Badminton node has been called...\")\n",
    "    return {\"graph_info\": state[\"graph_info\"] + \"I'm going to play badminton\"}"
   ]
  },
  {
   "cell_type": "code",
   "execution_count": 8,
   "metadata": {},
   "outputs": [],
   "source": [
    "import random\n",
    "from typing import Literal\n",
    "\n",
    "def random_play(state: State) -> Literal[\"cricket\", \"badminton\"]:\n",
    "    if random.random() > 0.5:\n",
    "        return \"cricket\"\n",
    "    else:\n",
    "        return \"badminton\""
   ]
  },
  {
   "cell_type": "code",
   "execution_count": 11,
   "metadata": {},
   "outputs": [
    {
     "data": {
      "image/png": "[encoded data removed]",
      "text/plain": [
       "<IPython.core.display.Image object>"
      ]
     },
     "metadata": {},
     "output_type": "display_data"
    }
   ],
   "source": [
    "from IPython.display import Image, display\n",
    "from langgraph.graph import StateGraph, START, END\n",
    "\n",
    "## Build the graph\n",
    "graph = StateGraph(State)\n",
    "\n",
    "graph.add_node(\"start_play\", start_play)\n",
    "graph.add_node(\"cricket\", cricket)\n",
    "graph.add_node(\"badminton\", badminton)\n",
    "\n",
    "## Schedule the flow of the graph\n",
    "graph.add_edge(START, \"start_play\")\n",
    "graph.add_conditional_edges(\n",
    "    \"start_play\", random_play\n",
    ")\n",
    "graph.add_edge(\"cricket\", END)\n",
    "graph.add_edge(\"badminton\", END)\n",
    "\n",
    "## Create the graph\n",
    "graph_builder = graph.compile()\n",
    "\n",
    "## Visualize the graph\n",
    "display(Image(graph_builder.get_graph().draw_mermaid_png()))"
   ]
  },
  {
   "cell_type": "code",
   "execution_count": 20,
   "metadata": {},
   "outputs": [
    {
     "name": "stdout",
     "output_type": "stream",
     "text": [
      "Starting Play node has been called...\n",
      "Badminton node has been called...\n"
     ]
    },
    {
     "data": {
      "text/plain": [
       "{'graph_info': \"I'm planning to play a gameI'm planning to play a gameI'm going to play badminton\"}"
      ]
     },
     "execution_count": 20,
     "metadata": {},
     "output_type": "execute_result"
    }
   ],
   "source": [
    "graph_builder.invoke({\"graph_info\": \"I'm planning to play a game\"})"
   ]
  }
 ],
 "metadata": {
  "kernelspec": {
   "display_name": "base",
   "language": "python",
   "name": "python3"
  },
  "language_info": {
   "codemirror_mode": {
    "name": "ipython",
    "version": 3
   },
   "file_extension": ".py",
   "mimetype": "text/x-python",
   "name": "python",
   "nbconvert_exporter": "python",
   "pygments_lexer": "ipython3",
   "version": "3.11.4"
  }
 },
 "nbformat": 4,
 "nbformat_minor": 2
}
